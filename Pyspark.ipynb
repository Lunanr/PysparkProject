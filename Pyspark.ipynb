{
  "nbformat": 4,
  "nbformat_minor": 0,
  "metadata": {
    "colab": {
      "provenance": []
    },
    "kernelspec": {
      "name": "python3",
      "display_name": "Python 3"
    },
    "language_info": {
      "name": "python"
    }
  },
  "cells": [
    {
      "cell_type": "code",
      "execution_count": null,
      "metadata": {
        "id": "yJkl5njY5HrM"
      },
      "outputs": [],
      "source": [
        "# pip install pyspark"
      ]
    },
    {
      "cell_type": "markdown",
      "source": [
        "Different pandas and Pyspark\n",
        "<br> Pandas Run in one machine\n",
        "<br> Pyspark Run in multiple machine"
      ],
      "metadata": {
        "id": "HGz5zS4OiBfv"
      }
    },
    {
      "cell_type": "code",
      "source": [
        "from pyspark.sql import SparkSession"
      ],
      "metadata": {
        "id": "a7F5cAdvhIzX"
      },
      "execution_count": null,
      "outputs": []
    },
    {
      "cell_type": "code",
      "source": [
        "spark = SparkSession.builder.appName('Pyspark').getOrCreate()"
      ],
      "metadata": {
        "id": "W63wix0GiM0e"
      },
      "execution_count": null,
      "outputs": []
    },
    {
      "cell_type": "code",
      "source": [
        "spark"
      ],
      "metadata": {
        "colab": {
          "base_uri": "https://localhost:8080/",
          "height": 219
        },
        "id": "H01CtQYUlkDQ",
        "outputId": "4f82b20e-94c0-40f0-fcac-5662fc2f7a8b"
      },
      "execution_count": null,
      "outputs": [
        {
          "output_type": "execute_result",
          "data": {
            "text/plain": [
              "<pyspark.sql.session.SparkSession at 0x7f4650106980>"
            ],
            "text/html": [
              "\n",
              "            <div>\n",
              "                <p><b>SparkSession - in-memory</b></p>\n",
              "                \n",
              "        <div>\n",
              "            <p><b>SparkContext</b></p>\n",
              "\n",
              "            <p><a href=\"http://e89c6d0a6540:4040\">Spark UI</a></p>\n",
              "\n",
              "            <dl>\n",
              "              <dt>Version</dt>\n",
              "                <dd><code>v3.4.0</code></dd>\n",
              "              <dt>Master</dt>\n",
              "                <dd><code>local[*]</code></dd>\n",
              "              <dt>AppName</dt>\n",
              "                <dd><code>Pyspark</code></dd>\n",
              "            </dl>\n",
              "        </div>\n",
              "        \n",
              "            </div>\n",
              "        "
            ]
          },
          "metadata": {},
          "execution_count": 40
        }
      ]
    },
    {
      "cell_type": "code",
      "source": [
        "df = spark.read.csv('/content/drive/MyDrive/Latihan.csv',header=True,inferSchema=True)\n",
        "# header make a first row to be a header\n",
        "# inferSchema will automatically guess the data types for each field"
      ],
      "metadata": {
        "id": "WiI56IVclsNK"
      },
      "execution_count": null,
      "outputs": []
    },
    {
      "cell_type": "markdown",
      "source": [
        "## 1. Display top 3 Rows of the dataset"
      ],
      "metadata": {
        "id": "5r71QlHxl1ok"
      }
    },
    {
      "cell_type": "code",
      "source": [
        "df.show(3)"
      ],
      "metadata": {
        "colab": {
          "base_uri": "https://localhost:8080/"
        },
        "id": "K9Zu7cIjlysZ",
        "outputId": "fe856c4a-d5da-4084-eb6c-70218a98b2c9"
      },
      "execution_count": null,
      "outputs": [
        {
          "output_type": "stream",
          "name": "stdout",
          "text": [
            "+------+-----+------+\n",
            "|  Nama|Score|Gender|\n",
            "+------+-----+------+\n",
            "|Luthfi|   90|  Male|\n",
            "| Adnan|   85|  Male|\n",
            "|Rahman|   65|Female|\n",
            "+------+-----+------+\n",
            "only showing top 3 rows\n",
            "\n"
          ]
        }
      ]
    },
    {
      "cell_type": "markdown",
      "source": [
        "## 2. Display datatype of each column"
      ],
      "metadata": {
        "id": "Zbt2z_j_l_g4"
      }
    },
    {
      "cell_type": "code",
      "source": [
        "df.printSchema()"
      ],
      "metadata": {
        "colab": {
          "base_uri": "https://localhost:8080/"
        },
        "id": "enw6xF0WmvKX",
        "outputId": "c5abc8a9-a659-4b59-fb8e-d43ac67a09db"
      },
      "execution_count": null,
      "outputs": [
        {
          "output_type": "stream",
          "name": "stdout",
          "text": [
            "root\n",
            " |-- Nama: string (nullable = true)\n",
            " |-- Score: integer (nullable = true)\n",
            " |-- Gender: string (nullable = true)\n",
            "\n"
          ]
        }
      ]
    },
    {
      "cell_type": "markdown",
      "source": [
        "## 3. Display Column Names"
      ],
      "metadata": {
        "id": "sZuDxBHlmG9q"
      }
    },
    {
      "cell_type": "code",
      "source": [
        "df.columns"
      ],
      "metadata": {
        "colab": {
          "base_uri": "https://localhost:8080/"
        },
        "id": "N6ReyRCaniJ5",
        "outputId": "f0274e24-b746-4618-e719-93f3f0305d93"
      },
      "execution_count": null,
      "outputs": [
        {
          "output_type": "execute_result",
          "data": {
            "text/plain": [
              "['Nama', 'Score', 'Gender']"
            ]
          },
          "metadata": {},
          "execution_count": 44
        }
      ]
    },
    {
      "cell_type": "markdown",
      "source": [
        "## 4. Count Number of Rows and Columns of The dataset"
      ],
      "metadata": {
        "id": "jKgqxlmjmIFr"
      }
    },
    {
      "cell_type": "code",
      "source": [
        "df.count()\n",
        "# This function use to count the rows from dataset"
      ],
      "metadata": {
        "colab": {
          "base_uri": "https://localhost:8080/"
        },
        "id": "KKsgsjBmnnkM",
        "outputId": "2068804f-2322-4f75-c3b4-c7cd51ba106b"
      },
      "execution_count": null,
      "outputs": [
        {
          "output_type": "execute_result",
          "data": {
            "text/plain": [
              "11"
            ]
          },
          "metadata": {},
          "execution_count": 45
        }
      ]
    },
    {
      "cell_type": "code",
      "source": [
        "len(df.columns)"
      ],
      "metadata": {
        "colab": {
          "base_uri": "https://localhost:8080/"
        },
        "id": "dZUnxdYynrJ5",
        "outputId": "6a8e02ed-4165-4ee3-f382-a7abb4c82b3e"
      },
      "execution_count": null,
      "outputs": [
        {
          "output_type": "execute_result",
          "data": {
            "text/plain": [
              "3"
            ]
          },
          "metadata": {},
          "execution_count": 46
        }
      ]
    },
    {
      "cell_type": "markdown",
      "source": [
        "## 5.Get Overall Statistics About The Dataset"
      ],
      "metadata": {
        "id": "d69gcbz-mII0"
      }
    },
    {
      "cell_type": "code",
      "source": [
        "df.describe().show()"
      ],
      "metadata": {
        "colab": {
          "base_uri": "https://localhost:8080/"
        },
        "id": "KomeN-RTn2SF",
        "outputId": "2f703402-77f1-4890-9b81-d55a8a70917f"
      },
      "execution_count": null,
      "outputs": [
        {
          "output_type": "stream",
          "name": "stdout",
          "text": [
            "+-------+------+------------------+------+\n",
            "|summary|  Nama|             Score|Gender|\n",
            "+-------+------+------------------+------+\n",
            "|  count|    11|                 9|    11|\n",
            "|   mean|  null| 89.33333333333333|  null|\n",
            "| stddev|  null|10.074720839804941|  null|\n",
            "|    min|Abiyyu|                65|Female|\n",
            "|    max|   Tyo|                98|  Male|\n",
            "+-------+------+------------------+------+\n",
            "\n"
          ]
        }
      ]
    },
    {
      "cell_type": "markdown",
      "source": [
        "## 6.Find Unique Values Available in the Gender column"
      ],
      "metadata": {
        "id": "2ruigttFmIL-"
      }
    },
    {
      "cell_type": "code",
      "source": [
        "df.columns"
      ],
      "metadata": {
        "colab": {
          "base_uri": "https://localhost:8080/"
        },
        "id": "7b6xdkNSn-xW",
        "outputId": "2d623866-de8e-44e0-b91c-9287bd14ef42"
      },
      "execution_count": null,
      "outputs": [
        {
          "output_type": "execute_result",
          "data": {
            "text/plain": [
              "['Nama', 'Score', 'Gender']"
            ]
          },
          "metadata": {},
          "execution_count": 48
        }
      ]
    },
    {
      "cell_type": "code",
      "source": [
        "df.toPandas()['Gender'].unique()\n",
        "# toPandas to convert spark to pandas"
      ],
      "metadata": {
        "colab": {
          "base_uri": "https://localhost:8080/"
        },
        "id": "lYd0ZybVoBKl",
        "outputId": "86bfc636-f31b-4d4c-8502-f1616f7c2d9f"
      },
      "execution_count": null,
      "outputs": [
        {
          "output_type": "execute_result",
          "data": {
            "text/plain": [
              "array(['Male', 'Female'], dtype=object)"
            ]
          },
          "metadata": {},
          "execution_count": 49
        }
      ]
    },
    {
      "cell_type": "markdown",
      "source": [
        "## 7.Find the Total Number of Unique Values Available in the Gender column"
      ],
      "metadata": {
        "id": "70z_vxjamIPR"
      }
    },
    {
      "cell_type": "code",
      "source": [
        "len(df.toPandas()['Gender'].unique())"
      ],
      "metadata": {
        "colab": {
          "base_uri": "https://localhost:8080/"
        },
        "id": "3YESFvVPohqd",
        "outputId": "773381a3-e7ff-4e24-a7ea-134b6385bb40"
      },
      "execution_count": null,
      "outputs": [
        {
          "output_type": "execute_result",
          "data": {
            "text/plain": [
              "2"
            ]
          },
          "metadata": {},
          "execution_count": 50
        }
      ]
    },
    {
      "cell_type": "markdown",
      "source": [
        "## 8.How Select Single Column?"
      ],
      "metadata": {
        "id": "cvr3Zx4rmISZ"
      }
    },
    {
      "cell_type": "code",
      "source": [
        "df.show()"
      ],
      "metadata": {
        "colab": {
          "base_uri": "https://localhost:8080/"
        },
        "id": "jbP2t-mSorPx",
        "outputId": "b64c3ea5-c560-4d57-a8da-0da6df6fbdcd"
      },
      "execution_count": null,
      "outputs": [
        {
          "output_type": "stream",
          "name": "stdout",
          "text": [
            "+-------+-----+------+\n",
            "|   Nama|Score|Gender|\n",
            "+-------+-----+------+\n",
            "| Luthfi|   90|  Male|\n",
            "|  Adnan|   85|  Male|\n",
            "| Rahman|   65|Female|\n",
            "|    Tyo|   98|Female|\n",
            "|Raditya| null|Female|\n",
            "| Naufal|   88|  Male|\n",
            "| Abiyyu| null|Female|\n",
            "|   Rafi|   96|  Male|\n",
            "|  Fikri|   97|  Male|\n",
            "| Rafsan|   93|Female|\n",
            "|   Jani|   92|Female|\n",
            "+-------+-----+------+\n",
            "\n"
          ]
        }
      ]
    },
    {
      "cell_type": "code",
      "source": [
        "df.select('Nama').show()\n",
        "#Dont forget to use .show()"
      ],
      "metadata": {
        "colab": {
          "base_uri": "https://localhost:8080/"
        },
        "id": "dedvUB4rov2h",
        "outputId": "893abf1c-5719-4bc2-d64b-dbe1ec0c2a3f"
      },
      "execution_count": null,
      "outputs": [
        {
          "output_type": "stream",
          "name": "stdout",
          "text": [
            "+-------+\n",
            "|   Nama|\n",
            "+-------+\n",
            "| Luthfi|\n",
            "|  Adnan|\n",
            "| Rahman|\n",
            "|    Tyo|\n",
            "|Raditya|\n",
            "| Naufal|\n",
            "| Abiyyu|\n",
            "|   Rafi|\n",
            "|  Fikri|\n",
            "| Rafsan|\n",
            "|   Jani|\n",
            "+-------+\n",
            "\n"
          ]
        }
      ]
    },
    {
      "cell_type": "markdown",
      "source": [
        "## 9.How Select Multiple Columns?"
      ],
      "metadata": {
        "id": "_47vxaabmIVY"
      }
    },
    {
      "cell_type": "code",
      "source": [
        "df.select(['Nama','Gender']).show()"
      ],
      "metadata": {
        "colab": {
          "base_uri": "https://localhost:8080/"
        },
        "id": "3fmwV4uPpAD8",
        "outputId": "62fa1552-e6d7-40e2-8f7c-128a8ebb55c5"
      },
      "execution_count": null,
      "outputs": [
        {
          "output_type": "stream",
          "name": "stdout",
          "text": [
            "+-------+------+\n",
            "|   Nama|Gender|\n",
            "+-------+------+\n",
            "| Luthfi|  Male|\n",
            "|  Adnan|  Male|\n",
            "| Rahman|Female|\n",
            "|    Tyo|Female|\n",
            "|Raditya|Female|\n",
            "| Naufal|  Male|\n",
            "| Abiyyu|Female|\n",
            "|   Rafi|  Male|\n",
            "|  Fikri|  Male|\n",
            "| Rafsan|Female|\n",
            "|   Jani|Female|\n",
            "+-------+------+\n",
            "\n"
          ]
        }
      ]
    },
    {
      "cell_type": "markdown",
      "source": [
        "## 10. Create New Column With Marks + 1 And Also Update Existing DataFrame"
      ],
      "metadata": {
        "id": "jgkhgqbLmHAp"
      }
    },
    {
      "cell_type": "code",
      "source": [
        "df = df.withColumn('New_Score',df.Score+1)"
      ],
      "metadata": {
        "id": "96klY0VapL5F"
      },
      "execution_count": null,
      "outputs": []
    },
    {
      "cell_type": "code",
      "source": [
        "df.show()"
      ],
      "metadata": {
        "colab": {
          "base_uri": "https://localhost:8080/"
        },
        "id": "XSG8TlqlppmS",
        "outputId": "91412033-bfad-47b8-ede3-5e692441695b"
      },
      "execution_count": null,
      "outputs": [
        {
          "output_type": "stream",
          "name": "stdout",
          "text": [
            "+-------+-----+------+---------+\n",
            "|   Nama|Score|Gender|New_Score|\n",
            "+-------+-----+------+---------+\n",
            "| Luthfi|   90|  Male|       91|\n",
            "|  Adnan|   85|  Male|       86|\n",
            "| Rahman|   65|Female|       66|\n",
            "|    Tyo|   98|Female|       99|\n",
            "|Raditya| null|Female|     null|\n",
            "| Naufal|   88|  Male|       89|\n",
            "| Abiyyu| null|Female|     null|\n",
            "|   Rafi|   96|  Male|       97|\n",
            "|  Fikri|   97|  Male|       98|\n",
            "| Rafsan|   93|Female|       94|\n",
            "|   Jani|   92|Female|       93|\n",
            "+-------+-----+------+---------+\n",
            "\n"
          ]
        }
      ]
    },
    {
      "cell_type": "markdown",
      "source": [
        "## 11. Rename Name Column And Give New Name \"Student_Name"
      ],
      "metadata": {
        "id": "QYl8REyZmHDu"
      }
    },
    {
      "cell_type": "code",
      "source": [
        "df.columns"
      ],
      "metadata": {
        "colab": {
          "base_uri": "https://localhost:8080/"
        },
        "id": "KuV07SvSqFpq",
        "outputId": "a490dae4-a2aa-4e0e-df07-4c5d7f69161d"
      },
      "execution_count": null,
      "outputs": [
        {
          "output_type": "execute_result",
          "data": {
            "text/plain": [
              "['Nama', 'Score', 'Gender', 'New_Score']"
            ]
          },
          "metadata": {},
          "execution_count": 56
        }
      ]
    },
    {
      "cell_type": "code",
      "source": [
        "df = df.withColumnRenamed('Nama','Student_Name')"
      ],
      "metadata": {
        "id": "ABXyijvuqHJB"
      },
      "execution_count": null,
      "outputs": []
    },
    {
      "cell_type": "code",
      "source": [
        "df.show()"
      ],
      "metadata": {
        "colab": {
          "base_uri": "https://localhost:8080/"
        },
        "id": "AYw8Pe0QqVOV",
        "outputId": "d357d8e0-7445-4d2f-ef19-91517e303d17"
      },
      "execution_count": null,
      "outputs": [
        {
          "output_type": "stream",
          "name": "stdout",
          "text": [
            "+------------+-----+------+---------+\n",
            "|Student_Name|Score|Gender|New_Score|\n",
            "+------------+-----+------+---------+\n",
            "|      Luthfi|   90|  Male|       91|\n",
            "|       Adnan|   85|  Male|       86|\n",
            "|      Rahman|   65|Female|       66|\n",
            "|         Tyo|   98|Female|       99|\n",
            "|     Raditya| null|Female|     null|\n",
            "|      Naufal|   88|  Male|       89|\n",
            "|      Abiyyu| null|Female|     null|\n",
            "|        Rafi|   96|  Male|       97|\n",
            "|       Fikri|   97|  Male|       98|\n",
            "|      Rafsan|   93|Female|       94|\n",
            "|        Jani|   92|Female|       93|\n",
            "+------------+-----+------+---------+\n",
            "\n"
          ]
        }
      ]
    },
    {
      "cell_type": "markdown",
      "source": [
        "## 12. Display Name of The Students Having Marks Greater Than 90"
      ],
      "metadata": {
        "id": "OlEqJqwqmfus"
      }
    },
    {
      "cell_type": "code",
      "source": [
        "df.filter(df['Score']>90).select('Student_Name').show()"
      ],
      "metadata": {
        "colab": {
          "base_uri": "https://localhost:8080/"
        },
        "id": "g-RmmsfOqbg4",
        "outputId": "0f14ef96-a4aa-4c98-dc5a-d8c71f447788"
      },
      "execution_count": null,
      "outputs": [
        {
          "output_type": "stream",
          "name": "stdout",
          "text": [
            "+------------+\n",
            "|Student_Name|\n",
            "+------------+\n",
            "|         Tyo|\n",
            "|        Rafi|\n",
            "|       Fikri|\n",
            "|      Rafsan|\n",
            "|        Jani|\n",
            "+------------+\n",
            "\n"
          ]
        }
      ]
    },
    {
      "cell_type": "markdown",
      "source": [
        "## 13.Display Name & Gender of The Students Having Marks Greater than 90"
      ],
      "metadata": {
        "id": "D4jCnMCYmfzh"
      }
    },
    {
      "cell_type": "code",
      "source": [
        "df.filter(df['Score']>90).select(['Student_Name','Gender']).show()"
      ],
      "metadata": {
        "colab": {
          "base_uri": "https://localhost:8080/"
        },
        "id": "8Lu33KfwqszR",
        "outputId": "c4533cf4-2837-480a-ba24-b168abd88d90"
      },
      "execution_count": null,
      "outputs": [
        {
          "output_type": "stream",
          "name": "stdout",
          "text": [
            "+------------+------+\n",
            "|Student_Name|Gender|\n",
            "+------------+------+\n",
            "|         Tyo|Female|\n",
            "|        Rafi|  Male|\n",
            "|       Fikri|  Male|\n",
            "|      Rafsan|Female|\n",
            "|        Jani|Female|\n",
            "+------------+------+\n",
            "\n"
          ]
        }
      ]
    },
    {
      "cell_type": "markdown",
      "source": [
        "## 14.Display Name of The Female Students Having Marks Greater Than 90"
      ],
      "metadata": {
        "id": "MhP7yJ-wmHGV"
      }
    },
    {
      "cell_type": "code",
      "source": [
        "#Multiple Condition\n",
        "df.filter((df['Score']>90) & (df['Gender']=='Female')).select('Student_Name').show()"
      ],
      "metadata": {
        "colab": {
          "base_uri": "https://localhost:8080/"
        },
        "id": "_3fdRZYSq1bS",
        "outputId": "f8fef96b-9342-4e4b-ef40-36f6df3acacd"
      },
      "execution_count": null,
      "outputs": [
        {
          "output_type": "stream",
          "name": "stdout",
          "text": [
            "+------------+\n",
            "|Student_Name|\n",
            "+------------+\n",
            "|         Tyo|\n",
            "|      Rafsan|\n",
            "|        Jani|\n",
            "+------------+\n",
            "\n"
          ]
        }
      ]
    },
    {
      "cell_type": "markdown",
      "source": [
        "## 15.Display Name of The Male Students Having Marks Greater Than 90"
      ],
      "metadata": {
        "id": "jPFbwPFRmq9s"
      }
    },
    {
      "cell_type": "code",
      "source": [
        "df.filter((df['Score']>90) & ~(df['Gender']=='Female')).select('Student_Name').show()\n",
        "# \"~\" meaning is oterwise condition"
      ],
      "metadata": {
        "colab": {
          "base_uri": "https://localhost:8080/"
        },
        "id": "-XGmf_T0rmAT",
        "outputId": "45736f15-c843-4e2b-d52f-0fba3b20571a"
      },
      "execution_count": null,
      "outputs": [
        {
          "output_type": "stream",
          "name": "stdout",
          "text": [
            "+------------+\n",
            "|Student_Name|\n",
            "+------------+\n",
            "|        Rafi|\n",
            "|       Fikri|\n",
            "+------------+\n",
            "\n"
          ]
        }
      ]
    },
    {
      "cell_type": "markdown",
      "source": [
        "## 16. Display Average Marks of Male & Female Students"
      ],
      "metadata": {
        "id": "IAo2CaNqmrAr"
      }
    },
    {
      "cell_type": "code",
      "source": [
        "df.groupby('Gender').mean().select(['Gender','avg(New_Score)']).show()"
      ],
      "metadata": {
        "id": "iFN9nI0Imtz8",
        "colab": {
          "base_uri": "https://localhost:8080/"
        },
        "outputId": "03296ae3-8394-4e4e-baef-e5a205332d1b"
      },
      "execution_count": null,
      "outputs": [
        {
          "output_type": "stream",
          "name": "stdout",
          "text": [
            "+------+--------------+\n",
            "|Gender|avg(New_Score)|\n",
            "+------+--------------+\n",
            "|Female|          88.0|\n",
            "|  Male|          92.2|\n",
            "+------+--------------+\n",
            "\n"
          ]
        }
      ]
    },
    {
      "cell_type": "markdown",
      "source": [
        "## 17. Sort every row of the dataset into descending order"
      ],
      "metadata": {
        "id": "FZicYJuAt1Jf"
      }
    },
    {
      "cell_type": "code",
      "source": [
        "df.orderBy(df['Score'].desc()).show()"
      ],
      "metadata": {
        "colab": {
          "base_uri": "https://localhost:8080/"
        },
        "id": "BtZKqbhQtfVq",
        "outputId": "cc58b3bf-1cc1-43a9-9ae6-b54814ba220a"
      },
      "execution_count": null,
      "outputs": [
        {
          "output_type": "stream",
          "name": "stdout",
          "text": [
            "+------------+-----+------+---------+\n",
            "|Student_Name|Score|Gender|New_Score|\n",
            "+------------+-----+------+---------+\n",
            "|         Tyo|   98|Female|       99|\n",
            "|       Fikri|   97|  Male|       98|\n",
            "|        Rafi|   96|  Male|       97|\n",
            "|      Rafsan|   93|Female|       94|\n",
            "|        Jani|   92|Female|       93|\n",
            "|      Luthfi|   90|  Male|       91|\n",
            "|      Naufal|   88|  Male|       89|\n",
            "|       Adnan|   85|  Male|       86|\n",
            "|      Rahman|   65|Female|       66|\n",
            "|     Raditya| null|Female|     null|\n",
            "|      Abiyyu| null|Female|     null|\n",
            "+------------+-----+------+---------+\n",
            "\n"
          ]
        }
      ]
    },
    {
      "cell_type": "markdown",
      "source": [
        "## 18. Handling missing Values"
      ],
      "metadata": {
        "id": "4zKeqktCuF3x"
      }
    },
    {
      "cell_type": "code",
      "source": [
        "df.show()"
      ],
      "metadata": {
        "colab": {
          "base_uri": "https://localhost:8080/"
        },
        "id": "SMwwr08Jtf6s",
        "outputId": "0389cc0b-ce26-4cea-a40a-ebd812decc7a"
      },
      "execution_count": null,
      "outputs": [
        {
          "output_type": "stream",
          "name": "stdout",
          "text": [
            "+------------+-----+------+---------+\n",
            "|Student_Name|Score|Gender|New_Score|\n",
            "+------------+-----+------+---------+\n",
            "|      Luthfi|   90|  Male|       91|\n",
            "|       Adnan|   85|  Male|       86|\n",
            "|      Rahman|   65|Female|       66|\n",
            "|         Tyo|   98|Female|       99|\n",
            "|     Raditya| null|Female|     null|\n",
            "|      Naufal|   88|  Male|       89|\n",
            "|      Abiyyu| null|Female|     null|\n",
            "|        Rafi|   96|  Male|       97|\n",
            "|       Fikri|   97|  Male|       98|\n",
            "|      Rafsan|   93|Female|       94|\n",
            "|        Jani|   92|Female|       93|\n",
            "+------------+-----+------+---------+\n",
            "\n"
          ]
        }
      ]
    },
    {
      "cell_type": "code",
      "source": [
        "from pyspark.sql.functions import mean"
      ],
      "metadata": {
        "id": "lsPv8ki9uL4C"
      },
      "execution_count": null,
      "outputs": []
    },
    {
      "cell_type": "code",
      "source": [
        "mean1 = df.select(mean(df['Score'])).collect()"
      ],
      "metadata": {
        "id": "QmhU5IzFuQaL"
      },
      "execution_count": null,
      "outputs": []
    },
    {
      "cell_type": "code",
      "source": [
        "mean1[0][0]\n",
        "# Display one row\n",
        "# [0][0] we are getting actual index"
      ],
      "metadata": {
        "colab": {
          "base_uri": "https://localhost:8080/"
        },
        "id": "UPIXAnDKuYtE",
        "outputId": "70a29b94-e639-40a5-c075-1200adc6a53f"
      },
      "execution_count": null,
      "outputs": [
        {
          "output_type": "execute_result",
          "data": {
            "text/plain": [
              "89.33333333333333"
            ]
          },
          "metadata": {},
          "execution_count": 79
        }
      ]
    },
    {
      "cell_type": "code",
      "source": [
        "df.fillna(mean1[0][0]).show()"
      ],
      "metadata": {
        "colab": {
          "base_uri": "https://localhost:8080/"
        },
        "id": "uiEwpFY_ubDZ",
        "outputId": "621cb755-fb21-4dc0-c8e1-d6199eb64e4f"
      },
      "execution_count": null,
      "outputs": [
        {
          "output_type": "stream",
          "name": "stdout",
          "text": [
            "+------------+-----+------+---------+\n",
            "|Student_Name|Score|Gender|New_Score|\n",
            "+------------+-----+------+---------+\n",
            "|      Luthfi|   90|  Male|       91|\n",
            "|       Adnan|   85|  Male|       86|\n",
            "|      Rahman|   65|Female|       66|\n",
            "|         Tyo|   98|Female|       99|\n",
            "|     Raditya|   89|Female|       89|\n",
            "|      Naufal|   88|  Male|       89|\n",
            "|      Abiyyu|   89|Female|       89|\n",
            "|        Rafi|   96|  Male|       97|\n",
            "|       Fikri|   97|  Male|       98|\n",
            "|      Rafsan|   93|Female|       94|\n",
            "|        Jani|   92|Female|       93|\n",
            "+------------+-----+------+---------+\n",
            "\n"
          ]
        }
      ]
    },
    {
      "cell_type": "code",
      "source": [],
      "metadata": {
        "id": "lX79Foe4uhI8"
      },
      "execution_count": null,
      "outputs": []
    }
  ]
}